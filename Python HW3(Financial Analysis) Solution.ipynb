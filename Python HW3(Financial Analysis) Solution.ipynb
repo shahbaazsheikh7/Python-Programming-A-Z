{
 "cells": [
  {
   "cell_type": "markdown",
   "metadata": {},
   "source": [
    "### Homework 3 Financial Analysis"
   ]
  },
  {
   "cell_type": "code",
   "execution_count": 74,
   "metadata": {},
   "outputs": [],
   "source": [
    "#Data \n",
    "revenue = [14574.49, 7606.46, 8611.41, 9175.41, 8058.65, 8105.44, 11496.28, 9766.09, 10305.32, 14379.96, 10713.97, 15433.50]\n",
    "expenses = [12051.82, 5695.07, 12319.20, 12089.72, 8658.57, 840.20, 3285.73, 5821.12, 6976.93, 16618.61, 10054.37, 3803.96]"
   ]
  },
  {
   "cell_type": "code",
   "execution_count": 75,
   "metadata": {},
   "outputs": [
    {
     "data": {
      "text/plain": [
       "[2522.67,\n",
       " 1911.3900000000003,\n",
       " -3707.790000000001,\n",
       " -2914.3099999999995,\n",
       " -599.9200000000001,\n",
       " 7265.24,\n",
       " 8210.550000000001,\n",
       " 3944.9700000000003,\n",
       " 3328.3899999999994,\n",
       " -2238.6500000000015,\n",
       " 659.5999999999985,\n",
       " 11629.54]"
      ]
     },
     "execution_count": 75,
     "metadata": {},
     "output_type": "execute_result"
    }
   ],
   "source": [
    "profit = list()\n",
    "for i in range(len(revenue)):\n",
    "    profit.append(revenue[i]-expenses[i])\n",
    "profit"
   ]
  },
  {
   "cell_type": "code",
   "execution_count": 76,
   "metadata": {},
   "outputs": [
    {
     "data": {
      "text/plain": [
       "[756.8,\n",
       " 573.42,\n",
       " -1112.34,\n",
       " -874.29,\n",
       " -179.98,\n",
       " 2179.57,\n",
       " 2463.17,\n",
       " 1183.49,\n",
       " 998.52,\n",
       " -671.6,\n",
       " 197.88,\n",
       " 3488.86]"
      ]
     },
     "execution_count": 76,
     "metadata": {},
     "output_type": "execute_result"
    }
   ],
   "source": [
    "tax = list()\n",
    "\n",
    "for i in range(len(profit)):\n",
    "    tax.append(round((profit[i] * 0.3),2))\n",
    "tax"
   ]
  },
  {
   "cell_type": "markdown",
   "metadata": {},
   "source": [
    "### In the next line we are going to use a new kind of instruction to generate elements of the list \"profit_after_tax\".  "
   ]
  },
  {
   "cell_type": "code",
   "execution_count": 77,
   "metadata": {},
   "outputs": [],
   "source": [
    "profit_after_tax = [profit[i]-tax[i] for i in range(12)]"
   ]
  },
  {
   "cell_type": "code",
   "execution_count": 78,
   "metadata": {},
   "outputs": [
    {
     "data": {
      "text/plain": [
       "[1765.8700000000001,\n",
       " 1337.9700000000003,\n",
       " -2595.4500000000007,\n",
       " -2040.0199999999995,\n",
       " -419.94000000000005,\n",
       " 5085.67,\n",
       " 5747.380000000001,\n",
       " 2761.4800000000005,\n",
       " 2329.8699999999994,\n",
       " -1567.0500000000015,\n",
       " 461.71999999999855,\n",
       " 8140.68]"
      ]
     },
     "execution_count": 78,
     "metadata": {},
     "output_type": "execute_result"
    }
   ],
   "source": [
    "profit_after_tax"
   ]
  },
  {
   "cell_type": "code",
   "execution_count": 79,
   "metadata": {},
   "outputs": [
    {
     "data": {
      "text/plain": [
       "[12.12,\n",
       " 17.59,\n",
       " -30.14,\n",
       " -22.23,\n",
       " -5.21,\n",
       " 62.74,\n",
       " 49.99,\n",
       " 28.28,\n",
       " 22.61,\n",
       " -10.9,\n",
       " 4.31,\n",
       " 52.75]"
      ]
     },
     "execution_count": 79,
     "metadata": {},
     "output_type": "execute_result"
    }
   ],
   "source": [
    "profit_margin = [profit_after_tax[i] / revenue[i] for i in range(12)]\n",
    "profit_margin = [round(i * 100,2) for i in profit_margin]\n",
    "profit_margin"
   ]
  },
  {
   "cell_type": "code",
   "execution_count": 80,
   "metadata": {},
   "outputs": [
    {
     "data": {
      "text/plain": [
       "1750.6816666666666"
      ]
     },
     "execution_count": 80,
     "metadata": {},
     "output_type": "execute_result"
    }
   ],
   "source": [
    "mean_profit = sum(profit_after_tax) / len(profit_after_tax)\n",
    "mean_profit"
   ]
  },
  {
   "cell_type": "markdown",
   "metadata": {},
   "source": [
    "### As suggested here in the next line, it is a good practice to append Bool values in a list!"
   ]
  },
  {
   "cell_type": "code",
   "execution_count": 81,
   "metadata": {},
   "outputs": [
    {
     "data": {
      "text/plain": [
       "[True, False, False, False, False, True, True, True, True, False, False, True]"
      ]
     },
     "execution_count": 81,
     "metadata": {},
     "output_type": "execute_result"
    }
   ],
   "source": [
    "good_months = list()\n",
    "\n",
    "for i in range(12):\n",
    "    good_months.append(profit_after_tax[i] > mean_profit)\n",
    "good_months"
   ]
  },
  {
   "cell_type": "code",
   "execution_count": 82,
   "metadata": {},
   "outputs": [
    {
     "data": {
      "text/plain": [
       "[False, True, True, True, True, False, False, False, False, True, True, False]"
      ]
     },
     "execution_count": 82,
     "metadata": {},
     "output_type": "execute_result"
    }
   ],
   "source": [
    "bad_months = list()\n",
    "\n",
    "for i in range(12):\n",
    "    bad_months.append(profit_after_tax[i] < mean_profit)\n",
    "bad_months"
   ]
  },
  {
   "cell_type": "code",
   "execution_count": 83,
   "metadata": {},
   "outputs": [
    {
     "data": {
      "text/plain": [
       "[False,\n",
       " False,\n",
       " False,\n",
       " False,\n",
       " False,\n",
       " False,\n",
       " False,\n",
       " False,\n",
       " False,\n",
       " False,\n",
       " False,\n",
       " True]"
      ]
     },
     "execution_count": 83,
     "metadata": {},
     "output_type": "execute_result"
    }
   ],
   "source": [
    "best_month = list()\n",
    "\n",
    "for i in range(12):\n",
    "    best_month.append(profit_after_tax[i] == max(profit_after_tax))\n",
    "best_month"
   ]
  },
  {
   "cell_type": "code",
   "execution_count": 84,
   "metadata": {},
   "outputs": [
    {
     "data": {
      "text/plain": [
       "[False,\n",
       " False,\n",
       " True,\n",
       " False,\n",
       " False,\n",
       " False,\n",
       " False,\n",
       " False,\n",
       " False,\n",
       " False,\n",
       " False,\n",
       " False]"
      ]
     },
     "execution_count": 84,
     "metadata": {},
     "output_type": "execute_result"
    }
   ],
   "source": [
    "worst_month = list()\n",
    "\n",
    "for i in range(12):\n",
    "    worst_month.append(profit_after_tax[i] == min(profit_after_tax))\n",
    "worst_month"
   ]
  },
  {
   "cell_type": "code",
   "execution_count": 85,
   "metadata": {},
   "outputs": [],
   "source": [
    "revenue = [round(i/1000,2) for i in revenue]\n",
    "expenses = [round(i/1000,2) for i in expenses]\n",
    "#profit = [round(i/1000,2) for i in profit]\n",
    "#tax = [round(i/1000,2) for i in tax]\n",
    "#profit_after_tax = [round(i/1000,2) for i in profit_after_tax]\n",
    "\n",
    "profit = [int(i) for i in profit]\n",
    "profit_after_tax = [int(i) for i in profit_after_tax]\n",
    "revenue = [int(i) for i in revenue]\n",
    "expenses = [int(i) for i in expenses]"
   ]
  },
  {
   "cell_type": "code",
   "execution_count": 86,
   "metadata": {},
   "outputs": [
    {
     "name": "stdout",
     "output_type": "stream",
     "text": [
      "Revenue: \n",
      "[14, 7, 8, 9, 8, 8, 11, 9, 10, 14, 10, 15]\n",
      "Expenses: \n",
      "[12, 5, 12, 12, 8, 0, 3, 5, 6, 16, 10, 3]\n",
      "Profit: \n",
      "[2522, 1911, -3707, -2914, -599, 7265, 8210, 3944, 3328, -2238, 659, 11629]\n",
      "Profit after tax: \n",
      "[1765, 1337, -2595, -2040, -419, 5085, 5747, 2761, 2329, -1567, 461, 8140]\n",
      "Profit Margin: \n",
      "[12.12, 17.59, -30.14, -22.23, -5.21, 62.74, 49.99, 28.28, 22.61, -10.9, 4.31, 52.75]\n",
      "Good months: \n",
      "[True, False, False, False, False, True, True, True, True, False, False, True]\n",
      "Bad months: \n",
      "[False, True, True, True, True, False, False, False, False, True, True, False]\n",
      "Best month: \n",
      "[False, False, False, False, False, False, False, False, False, False, False, True]\n",
      "Worst month: \n",
      "[False, False, True, False, False, False, False, False, False, False, False, False]\n"
     ]
    }
   ],
   "source": [
    "print(\"Revenue: \")\n",
    "print(revenue)\n",
    "print(\"Expenses: \")\n",
    "print(expenses)\n",
    "print(\"Profit: \")\n",
    "print(profit)\n",
    "print(\"Profit after tax: \")\n",
    "print(profit_after_tax)\n",
    "print(\"Profit Margin: \")\n",
    "print(profit_margin)\n",
    "print(\"Good months: \")\n",
    "print(good_months)\n",
    "print(\"Bad months: \")\n",
    "print(bad_months)\n",
    "print(\"Best month: \")\n",
    "print(best_month)\n",
    "print(\"Worst month: \")\n",
    "print(worst_month)"
   ]
  },
  {
   "cell_type": "code",
   "execution_count": 87,
   "metadata": {},
   "outputs": [],
   "source": [
    "months = [\"Jan\",\"Feb\",\"Mar\",\"Apr\",\"May\",\"Jun\",\"Jul\",\"Aug\",\"Sep\",\"Oct\",\"Nov\",\"Dec\"]"
   ]
  },
  {
   "cell_type": "code",
   "execution_count": 88,
   "metadata": {},
   "outputs": [
    {
     "data": {
      "text/plain": [
       "['Jan', 'Jun', 'Jul', 'Aug', 'Sep', 'Dec']"
      ]
     },
     "execution_count": 88,
     "metadata": {},
     "output_type": "execute_result"
    }
   ],
   "source": [
    "gm = list()\n",
    "for i in range(12):\n",
    "    if good_months[i]==True:\n",
    "        gm.append(months[i])\n",
    "gm"
   ]
  },
  {
   "cell_type": "code",
   "execution_count": 89,
   "metadata": {},
   "outputs": [
    {
     "data": {
      "text/plain": [
       "['Feb', 'Mar', 'Apr', 'May', 'Oct', 'Nov']"
      ]
     },
     "execution_count": 89,
     "metadata": {},
     "output_type": "execute_result"
    }
   ],
   "source": [
    "bm = list()\n",
    "for i in range(12):\n",
    "    if bad_months[i]==True:\n",
    "        bm.append(months[i])\n",
    "bm"
   ]
  },
  {
   "cell_type": "code",
   "execution_count": 91,
   "metadata": {},
   "outputs": [
    {
     "data": {
      "text/plain": [
       "['Dec']"
      ]
     },
     "execution_count": 91,
     "metadata": {},
     "output_type": "execute_result"
    }
   ],
   "source": [
    "bestm = list()\n",
    "for i in range(12):\n",
    "    if best_month[i]==True:\n",
    "        bestm.append(months[i])\n",
    "bestm"
   ]
  },
  {
   "cell_type": "code",
   "execution_count": 92,
   "metadata": {},
   "outputs": [
    {
     "data": {
      "text/plain": [
       "['Mar']"
      ]
     },
     "execution_count": 92,
     "metadata": {},
     "output_type": "execute_result"
    }
   ],
   "source": [
    "worstm = list()\n",
    "for i in range(12):\n",
    "    if worst_month[i]==True:\n",
    "        worstm.append(months[i])\n",
    "worstm"
   ]
  },
  {
   "cell_type": "code",
   "execution_count": 93,
   "metadata": {},
   "outputs": [
    {
     "name": "stdout",
     "output_type": "stream",
     "text": [
      "Revenue: \n",
      "[14, 7, 8, 9, 8, 8, 11, 9, 10, 14, 10, 15]\n",
      "Expenses: \n",
      "[12, 5, 12, 12, 8, 0, 3, 5, 6, 16, 10, 3]\n",
      "Profit: \n",
      "[2522, 1911, -3707, -2914, -599, 7265, 8210, 3944, 3328, -2238, 659, 11629]\n",
      "Profit after tax: \n",
      "[1765, 1337, -2595, -2040, -419, 5085, 5747, 2761, 2329, -1567, 461, 8140]\n",
      "Profit Margin: \n",
      "[12.12, 17.59, -30.14, -22.23, -5.21, 62.74, 49.99, 28.28, 22.61, -10.9, 4.31, 52.75]\n",
      "Good months: \n",
      "['Jan', 'Jun', 'Jul', 'Aug', 'Sep', 'Dec']\n",
      "Bad months: \n",
      "['Feb', 'Mar', 'Apr', 'May', 'Oct', 'Nov']\n",
      "Best month: \n",
      "['Dec']\n",
      "Worst month: \n",
      "['Mar']\n"
     ]
    }
   ],
   "source": [
    "print(\"Revenue: \")\n",
    "print(revenue)\n",
    "print(\"Expenses: \")\n",
    "print(expenses)\n",
    "print(\"Profit: \")\n",
    "print(profit)\n",
    "print(\"Profit after tax: \")\n",
    "print(profit_after_tax)\n",
    "print(\"Profit Margin: \")\n",
    "print(profit_margin)\n",
    "print(\"Good months: \")\n",
    "print(gm)\n",
    "print(\"Bad months: \")\n",
    "print(bm)\n",
    "print(\"Best month: \")\n",
    "print(bestm)\n",
    "print(\"Worst month: \")\n",
    "print(worstm)"
   ]
  },
  {
   "cell_type": "code",
   "execution_count": null,
   "metadata": {},
   "outputs": [],
   "source": []
  }
 ],
 "metadata": {
  "kernelspec": {
   "display_name": "Python 3",
   "language": "python",
   "name": "python3"
  },
  "language_info": {
   "codemirror_mode": {
    "name": "ipython",
    "version": 3
   },
   "file_extension": ".py",
   "mimetype": "text/x-python",
   "name": "python",
   "nbconvert_exporter": "python",
   "pygments_lexer": "ipython3",
   "version": "3.7.3"
  }
 },
 "nbformat": 4,
 "nbformat_minor": 1
}
